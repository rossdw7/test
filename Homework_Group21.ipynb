{
 "cells": [
  {
   "cell_type": "markdown",
   "id": "2e19e8c8",
   "metadata": {},
   "source": [
    "# Instructions\n",
    "\n",
    "Your submission will be tested with the code tester. It is important to follow these instructions to ensure your work tests properly.\n",
    "\n",
    "- Do not change the content of the cells under __SETUP__ and __TESTS__\n",
    "- Work only in the __YOUR WORK__ area\n",
    "- Rename the notebook with your group at the end (subsitute XX with your group number).\n",
    "- Assign the results of each numbered question to the appropriate test variable. For example, the answer of `1.` should be assigned to `test_1`\n",
    "- Rounding: use the supplied function `hround` to round decimal numbers when instructed. It's important to use this function because there are [multiple ways to round numbers in Python](https://www.knowledgehut.com/blog/programming/python-rounding-numbers) and they may not result in the same value that the tester is testing against.\n",
    "- Ensure your run the cells under __SETUP__ before you run your work\n",
    "- Before you submit your work, ensure you clean up your notebook. Your notebook has to run without an error in order to be tested. The easiest way to ensure is to `Kernel->Restart & Run All`\n",
    "- Answers are provided in along with this notebook in eLC (look a picture named `solution_key`) for your convenience\n",
    "- You will need to write a program to calculate the answers. Setting the answers to be their correct values without solving them is considered *hardcoding* and will result in zero grade for the assignment as well as a potential academic honesty violation.\n",
    "- You can also test your submission using [the online code tester](https://notebook-tester.safadi-puzzler.com/)\n"
   ]
  },
  {
   "cell_type": "markdown",
   "id": "035741b4",
   "metadata": {},
   "source": [
    "# SETUP"
   ]
  },
  {
   "cell_type": "code",
   "execution_count": 1,
   "id": "ac7bfbfe",
   "metadata": {},
   "outputs": [],
   "source": [
    "import pandas as pd\n",
    "import numpy as np"
   ]
  },
  {
   "cell_type": "code",
   "execution_count": 2,
   "id": "34fcd373",
   "metadata": {
    "tags": [
     "parameters"
    ]
   },
   "outputs": [],
   "source": [
    "# DO NOT EDIT OR CHANGE THE CONTENT OF THIS CELL\n",
    "scenario = 0"
   ]
  },
  {
   "cell_type": "code",
   "execution_count": 3,
   "id": "0899ad8e",
   "metadata": {},
   "outputs": [],
   "source": [
    "def hround(number):\n",
    "    return round(number, 2 - scenario)"
   ]
  },
  {
   "cell_type": "code",
   "execution_count": 4,
   "id": "304ea6a2",
   "metadata": {},
   "outputs": [],
   "source": [
    "test_1=test_2=test_3=test_4=test_5=test_6=test_7=test_8=test_9=test_10=0.0\n",
    "test_11=test_12=test_13=test_14=test_15=test_16=test_17=test_18=test_19=test_20=0.0"
   ]
  },
  {
   "cell_type": "markdown",
   "id": "bec042a4",
   "metadata": {},
   "source": [
    "In this homework, we have data from an accounting system with the following columns:\n",
    "\n",
    "- `tech_approval_required`: a binary variable. Orders requiring technical approval are marked with 1\n",
    "- `requester_id`: the ID of the requester.\n",
    "- `role`: if the requester is from the IT department, these are labeled tech.\n",
    "- `product`: the type of product.\n",
    "- `quantity`: quantity ordered\n",
    "- `price`: price each\n",
    "- `total`: total price\n"
   ]
  },
  {
   "cell_type": "code",
   "execution_count": 5,
   "id": "3785584e",
   "metadata": {},
   "outputs": [
    {
     "data": {
      "text/html": [
       "<div>\n",
       "<style scoped>\n",
       "    .dataframe tbody tr th:only-of-type {\n",
       "        vertical-align: middle;\n",
       "    }\n",
       "\n",
       "    .dataframe tbody tr th {\n",
       "        vertical-align: top;\n",
       "    }\n",
       "\n",
       "    .dataframe thead th {\n",
       "        text-align: right;\n",
       "    }\n",
       "</style>\n",
       "<table border=\"1\" class=\"dataframe\">\n",
       "  <thead>\n",
       "    <tr style=\"text-align: right;\">\n",
       "      <th></th>\n",
       "      <th>tech_approval_required</th>\n",
       "      <th>requester_id</th>\n",
       "      <th>role</th>\n",
       "      <th>product</th>\n",
       "      <th>quantity</th>\n",
       "      <th>price</th>\n",
       "      <th>total</th>\n",
       "    </tr>\n",
       "  </thead>\n",
       "  <tbody>\n",
       "    <tr>\n",
       "      <th>0</th>\n",
       "      <td>0</td>\n",
       "      <td>E2300</td>\n",
       "      <td>tech</td>\n",
       "      <td>Desk</td>\n",
       "      <td>1</td>\n",
       "      <td>664</td>\n",
       "      <td>664</td>\n",
       "    </tr>\n",
       "    <tr>\n",
       "      <th>1</th>\n",
       "      <td>0</td>\n",
       "      <td>E2300</td>\n",
       "      <td>tech</td>\n",
       "      <td>Keyboard</td>\n",
       "      <td>9</td>\n",
       "      <td>649</td>\n",
       "      <td>5841</td>\n",
       "    </tr>\n",
       "    <tr>\n",
       "      <th>2</th>\n",
       "      <td>0</td>\n",
       "      <td>E2374</td>\n",
       "      <td>non-tech</td>\n",
       "      <td>Keyboard</td>\n",
       "      <td>1</td>\n",
       "      <td>821</td>\n",
       "      <td>821</td>\n",
       "    </tr>\n",
       "    <tr>\n",
       "      <th>3</th>\n",
       "      <td>1</td>\n",
       "      <td>E2374</td>\n",
       "      <td>non-tech</td>\n",
       "      <td>Desktop Computer</td>\n",
       "      <td>24</td>\n",
       "      <td>655</td>\n",
       "      <td>15720</td>\n",
       "    </tr>\n",
       "    <tr>\n",
       "      <th>4</th>\n",
       "      <td>0</td>\n",
       "      <td>E2327</td>\n",
       "      <td>non-tech</td>\n",
       "      <td>Desk</td>\n",
       "      <td>1</td>\n",
       "      <td>758</td>\n",
       "      <td>758</td>\n",
       "    </tr>\n",
       "  </tbody>\n",
       "</table>\n",
       "</div>"
      ],
      "text/plain": [
       "   tech_approval_required requester_id      role           product  quantity  \\\n",
       "0                       0        E2300      tech              Desk         1   \n",
       "1                       0        E2300      tech          Keyboard         9   \n",
       "2                       0        E2374  non-tech          Keyboard         1   \n",
       "3                       1        E2374  non-tech  Desktop Computer        24   \n",
       "4                       0        E2327  non-tech              Desk         1   \n",
       "\n",
       "   price  total  \n",
       "0    664    664  \n",
       "1    649   5841  \n",
       "2    821    821  \n",
       "3    655  15720  \n",
       "4    758    758  "
      ]
     },
     "execution_count": 5,
     "metadata": {},
     "output_type": "execute_result"
    }
   ],
   "source": [
    "part1 = pd.read_csv('orders.csv')\n",
    "part1.head()"
   ]
  },
  {
   "cell_type": "markdown",
   "id": "3c612577",
   "metadata": {},
   "source": [
    "# Part 1\n",
    "\n",
    "Focusing on the data frame `part1`\n",
    "\n",
    "1. report the number rows\n",
    "2. report the number of columns\n",
    "3. what is the total number of values in the data frame?\n",
    "4. select the first five rows (return a data frame)\n",
    "5. select the last five rows (return a data frame)\n",
    "6. select every other 100th row (return a data frame)\n",
    "7. we want to double check that the total values are accurate, calculate a new column `total2` by multiplying `price` with `quantity`. show the first five rows of `total` and `total2` (return a data frame).\n",
    "8. check if each value of `total` equals the corresponding value of `total2` (return a `bool`)\n",
    "9. How many orders required technical approval?\n",
    "10. What is the most expensive order (highest total)? return a series representing the order row from the data frame.\n",
    "11. What is the average price of `Desk`. Round the number with `hround`\n",
    "12. Report the requester ids that end with `0`. Return a sorted list.\n",
    "13. Who requested the order with the largest quantity, return the requester id.\n",
    "14. What are the distinct roles? Return a sorted list.\n",
    "15. Who ordered most keyboards (in terms of total quantity). Report the requester id."
   ]
  },
  {
   "cell_type": "code",
   "execution_count": 6,
   "id": "249fb7e0",
   "metadata": {},
   "outputs": [
    {
     "data": {
      "text/plain": [
       "1000"
      ]
     },
     "execution_count": 6,
     "metadata": {},
     "output_type": "execute_result"
    }
   ],
   "source": [
    "### TEST 1\n",
    "test_1 = len(part1)\n",
    "test_1"
   ]
  },
  {
   "cell_type": "code",
   "execution_count": 7,
   "id": "4f34202b",
   "metadata": {},
   "outputs": [
    {
     "data": {
      "text/plain": [
       "7"
      ]
     },
     "execution_count": 7,
     "metadata": {},
     "output_type": "execute_result"
    }
   ],
   "source": [
    "## TEST 2\n",
    "test_2 = len(part1.columns)\n",
    "test_2"
   ]
  },
  {
   "cell_type": "code",
   "execution_count": 8,
   "id": "49c66c75",
   "metadata": {},
   "outputs": [
    {
     "data": {
      "text/plain": [
       "7000"
      ]
     },
     "execution_count": 8,
     "metadata": {},
     "output_type": "execute_result"
    }
   ],
   "source": [
    "## TEST 3\n",
    "test_3 = part1.shape[0]*part1.shape[1]\n",
    "test_3"
   ]
  },
  {
   "cell_type": "code",
   "execution_count": 9,
   "id": "d6d7ebf2",
   "metadata": {},
   "outputs": [
    {
     "data": {
      "text/html": [
       "<div>\n",
       "<style scoped>\n",
       "    .dataframe tbody tr th:only-of-type {\n",
       "        vertical-align: middle;\n",
       "    }\n",
       "\n",
       "    .dataframe tbody tr th {\n",
       "        vertical-align: top;\n",
       "    }\n",
       "\n",
       "    .dataframe thead th {\n",
       "        text-align: right;\n",
       "    }\n",
       "</style>\n",
       "<table border=\"1\" class=\"dataframe\">\n",
       "  <thead>\n",
       "    <tr style=\"text-align: right;\">\n",
       "      <th></th>\n",
       "      <th>tech_approval_required</th>\n",
       "      <th>requester_id</th>\n",
       "      <th>role</th>\n",
       "      <th>product</th>\n",
       "      <th>quantity</th>\n",
       "      <th>price</th>\n",
       "      <th>total</th>\n",
       "    </tr>\n",
       "  </thead>\n",
       "  <tbody>\n",
       "    <tr>\n",
       "      <th>0</th>\n",
       "      <td>0</td>\n",
       "      <td>E2300</td>\n",
       "      <td>tech</td>\n",
       "      <td>Desk</td>\n",
       "      <td>1</td>\n",
       "      <td>664</td>\n",
       "      <td>664</td>\n",
       "    </tr>\n",
       "    <tr>\n",
       "      <th>1</th>\n",
       "      <td>0</td>\n",
       "      <td>E2300</td>\n",
       "      <td>tech</td>\n",
       "      <td>Keyboard</td>\n",
       "      <td>9</td>\n",
       "      <td>649</td>\n",
       "      <td>5841</td>\n",
       "    </tr>\n",
       "    <tr>\n",
       "      <th>2</th>\n",
       "      <td>0</td>\n",
       "      <td>E2374</td>\n",
       "      <td>non-tech</td>\n",
       "      <td>Keyboard</td>\n",
       "      <td>1</td>\n",
       "      <td>821</td>\n",
       "      <td>821</td>\n",
       "    </tr>\n",
       "    <tr>\n",
       "      <th>3</th>\n",
       "      <td>1</td>\n",
       "      <td>E2374</td>\n",
       "      <td>non-tech</td>\n",
       "      <td>Desktop Computer</td>\n",
       "      <td>24</td>\n",
       "      <td>655</td>\n",
       "      <td>15720</td>\n",
       "    </tr>\n",
       "    <tr>\n",
       "      <th>4</th>\n",
       "      <td>0</td>\n",
       "      <td>E2327</td>\n",
       "      <td>non-tech</td>\n",
       "      <td>Desk</td>\n",
       "      <td>1</td>\n",
       "      <td>758</td>\n",
       "      <td>758</td>\n",
       "    </tr>\n",
       "  </tbody>\n",
       "</table>\n",
       "</div>"
      ],
      "text/plain": [
       "   tech_approval_required requester_id      role           product  quantity  \\\n",
       "0                       0        E2300      tech              Desk         1   \n",
       "1                       0        E2300      tech          Keyboard         9   \n",
       "2                       0        E2374  non-tech          Keyboard         1   \n",
       "3                       1        E2374  non-tech  Desktop Computer        24   \n",
       "4                       0        E2327  non-tech              Desk         1   \n",
       "\n",
       "   price  total  \n",
       "0    664    664  \n",
       "1    649   5841  \n",
       "2    821    821  \n",
       "3    655  15720  \n",
       "4    758    758  "
      ]
     },
     "execution_count": 9,
     "metadata": {},
     "output_type": "execute_result"
    }
   ],
   "source": [
    "## TEST 4\n",
    "test_4 = part1.head()\n",
    "test_4"
   ]
  },
  {
   "cell_type": "code",
   "execution_count": 10,
   "id": "29545d67",
   "metadata": {},
   "outputs": [
    {
     "data": {
      "text/html": [
       "<div>\n",
       "<style scoped>\n",
       "    .dataframe tbody tr th:only-of-type {\n",
       "        vertical-align: middle;\n",
       "    }\n",
       "\n",
       "    .dataframe tbody tr th {\n",
       "        vertical-align: top;\n",
       "    }\n",
       "\n",
       "    .dataframe thead th {\n",
       "        text-align: right;\n",
       "    }\n",
       "</style>\n",
       "<table border=\"1\" class=\"dataframe\">\n",
       "  <thead>\n",
       "    <tr style=\"text-align: right;\">\n",
       "      <th></th>\n",
       "      <th>tech_approval_required</th>\n",
       "      <th>requester_id</th>\n",
       "      <th>role</th>\n",
       "      <th>product</th>\n",
       "      <th>quantity</th>\n",
       "      <th>price</th>\n",
       "      <th>total</th>\n",
       "    </tr>\n",
       "  </thead>\n",
       "  <tbody>\n",
       "    <tr>\n",
       "      <th>995</th>\n",
       "      <td>1</td>\n",
       "      <td>E2364</td>\n",
       "      <td>non-tech</td>\n",
       "      <td>Laptop Computer</td>\n",
       "      <td>1</td>\n",
       "      <td>116</td>\n",
       "      <td>116</td>\n",
       "    </tr>\n",
       "    <tr>\n",
       "      <th>996</th>\n",
       "      <td>1</td>\n",
       "      <td>E2357</td>\n",
       "      <td>non-tech</td>\n",
       "      <td>Laptop Computer</td>\n",
       "      <td>1</td>\n",
       "      <td>1132</td>\n",
       "      <td>1132</td>\n",
       "    </tr>\n",
       "    <tr>\n",
       "      <th>997</th>\n",
       "      <td>0</td>\n",
       "      <td>E2330</td>\n",
       "      <td>non-tech</td>\n",
       "      <td>Keyboard</td>\n",
       "      <td>2</td>\n",
       "      <td>804</td>\n",
       "      <td>1608</td>\n",
       "    </tr>\n",
       "    <tr>\n",
       "      <th>998</th>\n",
       "      <td>0</td>\n",
       "      <td>E2384</td>\n",
       "      <td>non-tech</td>\n",
       "      <td>Desk</td>\n",
       "      <td>3</td>\n",
       "      <td>270</td>\n",
       "      <td>810</td>\n",
       "    </tr>\n",
       "    <tr>\n",
       "      <th>999</th>\n",
       "      <td>0</td>\n",
       "      <td>E2343</td>\n",
       "      <td>non-tech</td>\n",
       "      <td>Mouse</td>\n",
       "      <td>1</td>\n",
       "      <td>236</td>\n",
       "      <td>236</td>\n",
       "    </tr>\n",
       "  </tbody>\n",
       "</table>\n",
       "</div>"
      ],
      "text/plain": [
       "     tech_approval_required requester_id      role          product  quantity  \\\n",
       "995                       1        E2364  non-tech  Laptop Computer         1   \n",
       "996                       1        E2357  non-tech  Laptop Computer         1   \n",
       "997                       0        E2330  non-tech         Keyboard         2   \n",
       "998                       0        E2384  non-tech             Desk         3   \n",
       "999                       0        E2343  non-tech            Mouse         1   \n",
       "\n",
       "     price  total  \n",
       "995    116    116  \n",
       "996   1132   1132  \n",
       "997    804   1608  \n",
       "998    270    810  \n",
       "999    236    236  "
      ]
     },
     "execution_count": 10,
     "metadata": {},
     "output_type": "execute_result"
    }
   ],
   "source": [
    "## TEST 5\n",
    "test_5 = part1.tail()\n",
    "test_5"
   ]
  },
  {
   "cell_type": "code",
   "execution_count": 11,
   "id": "90ae7979",
   "metadata": {},
   "outputs": [
    {
     "data": {
      "text/html": [
       "<div>\n",
       "<style scoped>\n",
       "    .dataframe tbody tr th:only-of-type {\n",
       "        vertical-align: middle;\n",
       "    }\n",
       "\n",
       "    .dataframe tbody tr th {\n",
       "        vertical-align: top;\n",
       "    }\n",
       "\n",
       "    .dataframe thead th {\n",
       "        text-align: right;\n",
       "    }\n",
       "</style>\n",
       "<table border=\"1\" class=\"dataframe\">\n",
       "  <thead>\n",
       "    <tr style=\"text-align: right;\">\n",
       "      <th></th>\n",
       "      <th>tech_approval_required</th>\n",
       "      <th>requester_id</th>\n",
       "      <th>role</th>\n",
       "      <th>product</th>\n",
       "      <th>quantity</th>\n",
       "      <th>price</th>\n",
       "      <th>total</th>\n",
       "    </tr>\n",
       "  </thead>\n",
       "  <tbody>\n",
       "    <tr>\n",
       "      <th>0</th>\n",
       "      <td>0</td>\n",
       "      <td>E2300</td>\n",
       "      <td>tech</td>\n",
       "      <td>Desk</td>\n",
       "      <td>1</td>\n",
       "      <td>664</td>\n",
       "      <td>664</td>\n",
       "    </tr>\n",
       "    <tr>\n",
       "      <th>100</th>\n",
       "      <td>0</td>\n",
       "      <td>E2354</td>\n",
       "      <td>non-tech</td>\n",
       "      <td>Desk</td>\n",
       "      <td>3</td>\n",
       "      <td>134</td>\n",
       "      <td>402</td>\n",
       "    </tr>\n",
       "    <tr>\n",
       "      <th>200</th>\n",
       "      <td>0</td>\n",
       "      <td>E2321</td>\n",
       "      <td>non-tech</td>\n",
       "      <td>Cleaning</td>\n",
       "      <td>5</td>\n",
       "      <td>48</td>\n",
       "      <td>240</td>\n",
       "    </tr>\n",
       "    <tr>\n",
       "      <th>300</th>\n",
       "      <td>0</td>\n",
       "      <td>E2392</td>\n",
       "      <td>non-tech</td>\n",
       "      <td>Chair</td>\n",
       "      <td>2</td>\n",
       "      <td>746</td>\n",
       "      <td>1492</td>\n",
       "    </tr>\n",
       "    <tr>\n",
       "      <th>400</th>\n",
       "      <td>0</td>\n",
       "      <td>E2343</td>\n",
       "      <td>non-tech</td>\n",
       "      <td>Desk</td>\n",
       "      <td>1</td>\n",
       "      <td>364</td>\n",
       "      <td>364</td>\n",
       "    </tr>\n",
       "    <tr>\n",
       "      <th>500</th>\n",
       "      <td>0</td>\n",
       "      <td>E2396</td>\n",
       "      <td>non-tech</td>\n",
       "      <td>Cleaning</td>\n",
       "      <td>1</td>\n",
       "      <td>1036</td>\n",
       "      <td>1036</td>\n",
       "    </tr>\n",
       "    <tr>\n",
       "      <th>600</th>\n",
       "      <td>0</td>\n",
       "      <td>E2334</td>\n",
       "      <td>non-tech</td>\n",
       "      <td>Desk</td>\n",
       "      <td>3</td>\n",
       "      <td>222</td>\n",
       "      <td>666</td>\n",
       "    </tr>\n",
       "    <tr>\n",
       "      <th>700</th>\n",
       "      <td>0</td>\n",
       "      <td>E2374</td>\n",
       "      <td>non-tech</td>\n",
       "      <td>Keyboard</td>\n",
       "      <td>2</td>\n",
       "      <td>138</td>\n",
       "      <td>276</td>\n",
       "    </tr>\n",
       "    <tr>\n",
       "      <th>800</th>\n",
       "      <td>0</td>\n",
       "      <td>E2344</td>\n",
       "      <td>non-tech</td>\n",
       "      <td>Desk</td>\n",
       "      <td>1</td>\n",
       "      <td>49</td>\n",
       "      <td>49</td>\n",
       "    </tr>\n",
       "    <tr>\n",
       "      <th>900</th>\n",
       "      <td>0</td>\n",
       "      <td>E2355</td>\n",
       "      <td>non-tech</td>\n",
       "      <td>Desk</td>\n",
       "      <td>7</td>\n",
       "      <td>348</td>\n",
       "      <td>2436</td>\n",
       "    </tr>\n",
       "  </tbody>\n",
       "</table>\n",
       "</div>"
      ],
      "text/plain": [
       "     tech_approval_required requester_id      role   product  quantity  price  \\\n",
       "0                         0        E2300      tech      Desk         1    664   \n",
       "100                       0        E2354  non-tech      Desk         3    134   \n",
       "200                       0        E2321  non-tech  Cleaning         5     48   \n",
       "300                       0        E2392  non-tech     Chair         2    746   \n",
       "400                       0        E2343  non-tech      Desk         1    364   \n",
       "500                       0        E2396  non-tech  Cleaning         1   1036   \n",
       "600                       0        E2334  non-tech      Desk         3    222   \n",
       "700                       0        E2374  non-tech  Keyboard         2    138   \n",
       "800                       0        E2344  non-tech      Desk         1     49   \n",
       "900                       0        E2355  non-tech      Desk         7    348   \n",
       "\n",
       "     total  \n",
       "0      664  \n",
       "100    402  \n",
       "200    240  \n",
       "300   1492  \n",
       "400    364  \n",
       "500   1036  \n",
       "600    666  \n",
       "700    276  \n",
       "800     49  \n",
       "900   2436  "
      ]
     },
     "execution_count": 11,
     "metadata": {},
     "output_type": "execute_result"
    }
   ],
   "source": [
    "## TEST 6\n",
    "test_6 = part1[::100]\n",
    "test_6"
   ]
  },
  {
   "cell_type": "code",
   "execution_count": 12,
   "id": "a260267c",
   "metadata": {},
   "outputs": [
    {
     "data": {
      "text/html": [
       "<div>\n",
       "<style scoped>\n",
       "    .dataframe tbody tr th:only-of-type {\n",
       "        vertical-align: middle;\n",
       "    }\n",
       "\n",
       "    .dataframe tbody tr th {\n",
       "        vertical-align: top;\n",
       "    }\n",
       "\n",
       "    .dataframe thead th {\n",
       "        text-align: right;\n",
       "    }\n",
       "</style>\n",
       "<table border=\"1\" class=\"dataframe\">\n",
       "  <thead>\n",
       "    <tr style=\"text-align: right;\">\n",
       "      <th></th>\n",
       "      <th>total</th>\n",
       "      <th>total2</th>\n",
       "    </tr>\n",
       "  </thead>\n",
       "  <tbody>\n",
       "    <tr>\n",
       "      <th>0</th>\n",
       "      <td>664</td>\n",
       "      <td>664</td>\n",
       "    </tr>\n",
       "    <tr>\n",
       "      <th>1</th>\n",
       "      <td>5841</td>\n",
       "      <td>5841</td>\n",
       "    </tr>\n",
       "    <tr>\n",
       "      <th>2</th>\n",
       "      <td>821</td>\n",
       "      <td>821</td>\n",
       "    </tr>\n",
       "    <tr>\n",
       "      <th>3</th>\n",
       "      <td>15720</td>\n",
       "      <td>15720</td>\n",
       "    </tr>\n",
       "    <tr>\n",
       "      <th>4</th>\n",
       "      <td>758</td>\n",
       "      <td>758</td>\n",
       "    </tr>\n",
       "  </tbody>\n",
       "</table>\n",
       "</div>"
      ],
      "text/plain": [
       "   total  total2\n",
       "0    664     664\n",
       "1   5841    5841\n",
       "2    821     821\n",
       "3  15720   15720\n",
       "4    758     758"
      ]
     },
     "execution_count": 12,
     "metadata": {},
     "output_type": "execute_result"
    }
   ],
   "source": [
    "## TEST 7\n",
    "part1['total2'] = part1['price']*part1['quantity']\n",
    "test_7 = part1.loc[:,'total':'total2'].head()\n",
    "test_7"
   ]
  },
  {
   "cell_type": "code",
   "execution_count": 13,
   "id": "84c6c4c2",
   "metadata": {},
   "outputs": [
    {
     "data": {
      "text/plain": [
       "True"
      ]
     },
     "execution_count": 13,
     "metadata": {},
     "output_type": "execute_result"
    }
   ],
   "source": [
    "## TEST 8\n",
    "\n",
    "ser = (part1['total'] == part1['total2'])\n",
    "for tf in ser:\n",
    "    if tf == True:\n",
    "        continue\n",
    "    else:\n",
    "        print('False')\n",
    "        break\n",
    "test_8 = tf\n",
    "test_8"
   ]
  },
  {
   "cell_type": "code",
   "execution_count": 14,
   "id": "b7a55f4a",
   "metadata": {},
   "outputs": [
    {
     "data": {
      "text/plain": [
       "193"
      ]
     },
     "execution_count": 14,
     "metadata": {},
     "output_type": "execute_result"
    }
   ],
   "source": [
    "## TEST 9\n",
    "test_9 = len(part1.loc[part1['tech_approval_required'] == 1])\n",
    "test_9"
   ]
  },
  {
   "cell_type": "code",
   "execution_count": 15,
   "id": "7cdd787c",
   "metadata": {},
   "outputs": [
    {
     "data": {
      "text/plain": [
       "tech_approval_required                   1\n",
       "requester_id                         E2358\n",
       "role                              non-tech\n",
       "product                   Desktop Computer\n",
       "quantity                                21\n",
       "price                                 1082\n",
       "total                                22722\n",
       "Name: 11, dtype: object"
      ]
     },
     "execution_count": 15,
     "metadata": {},
     "output_type": "execute_result"
    }
   ],
   "source": [
    "## TEST 10\n",
    "part1 = part1.drop('total2',axis=1)\n",
    "test_10 = part1.loc[part1['total'].idxmax()]\n",
    "test_10"
   ]
  },
  {
   "cell_type": "code",
   "execution_count": 16,
   "id": "2c5dce17",
   "metadata": {},
   "outputs": [
    {
     "data": {
      "text/plain": [
       "622.85"
      ]
     },
     "execution_count": 16,
     "metadata": {},
     "output_type": "execute_result"
    }
   ],
   "source": [
    "## TEST 11\n",
    "test_11 = hround(part1[part1['product'] == 'Desk']['price'].mean())\n",
    "test_11"
   ]
  },
  {
   "cell_type": "code",
   "execution_count": 17,
   "id": "1569ece5",
   "metadata": {},
   "outputs": [
    {
     "data": {
      "text/plain": [
       "['E2300',\n",
       " 'E2310',\n",
       " 'E2330',\n",
       " 'E2340',\n",
       " 'E2350',\n",
       " 'E2360',\n",
       " 'E2370',\n",
       " 'E2380',\n",
       " 'E2390',\n",
       " 'E2400']"
      ]
     },
     "execution_count": 17,
     "metadata": {},
     "output_type": "execute_result"
    }
   ],
   "source": [
    "## TEST 12\n",
    "test_12 = np.unique([requester_id for requester_id in part1.requester_id if requester_id[-1] == '0']).tolist()\n",
    "test_12"
   ]
  },
  {
   "cell_type": "code",
   "execution_count": 18,
   "id": "773ae757",
   "metadata": {},
   "outputs": [
    {
     "data": {
      "text/plain": [
       "'E2329'"
      ]
     },
     "execution_count": 18,
     "metadata": {},
     "output_type": "execute_result"
    }
   ],
   "source": [
    "## TEST 13\n",
    "test_13 = part1.loc[part1['quantity'].idxmax()][1]\n",
    "test_13"
   ]
  },
  {
   "cell_type": "code",
   "execution_count": 19,
   "id": "8820b187",
   "metadata": {},
   "outputs": [
    {
     "data": {
      "text/plain": [
       "['non-tech', 'tech']"
      ]
     },
     "execution_count": 19,
     "metadata": {},
     "output_type": "execute_result"
    }
   ],
   "source": [
    "## TEST 14\n",
    "test_14 = list(np.sort(np.unique(part1.loc[:,'role'])))\n",
    "test_14"
   ]
  },
  {
   "cell_type": "code",
   "execution_count": 20,
   "id": "e96d3255",
   "metadata": {},
   "outputs": [
    {
     "data": {
      "text/plain": [
       "'E2341'"
      ]
     },
     "execution_count": 20,
     "metadata": {},
     "output_type": "execute_result"
    }
   ],
   "source": [
    "## TEST 15\n",
    "keyboards = part1[part1['product'] == 'Keyboard']\n",
    "keyboards = keyboards.groupby(by='requester_id').sum()\n",
    "\n",
    "high = 0\n",
    "for t in keyboards.quantity:\n",
    "    if t > high:\n",
    "        high = t\n",
    "    else:\n",
    "        continue\n",
    "    test_15 = high\n",
    "highest = keyboards[keyboards['quantity']== high]\n",
    "test15 = highest.index.astype(str)[0]\n",
    "test15"
   ]
  },
  {
   "cell_type": "code",
   "execution_count": 21,
   "id": "6d49bc89",
   "metadata": {},
   "outputs": [
    {
     "data": {
      "text/html": [
       "<div>\n",
       "<style scoped>\n",
       "    .dataframe tbody tr th:only-of-type {\n",
       "        vertical-align: middle;\n",
       "    }\n",
       "\n",
       "    .dataframe tbody tr th {\n",
       "        vertical-align: top;\n",
       "    }\n",
       "\n",
       "    .dataframe thead th {\n",
       "        text-align: right;\n",
       "    }\n",
       "</style>\n",
       "<table border=\"1\" class=\"dataframe\">\n",
       "  <thead>\n",
       "    <tr style=\"text-align: right;\">\n",
       "      <th></th>\n",
       "      <th>tech_approval_required</th>\n",
       "      <th>requester_id</th>\n",
       "      <th>role</th>\n",
       "      <th>product</th>\n",
       "      <th>quantity</th>\n",
       "      <th>price</th>\n",
       "      <th>total</th>\n",
       "    </tr>\n",
       "  </thead>\n",
       "  <tbody>\n",
       "    <tr>\n",
       "      <th>0</th>\n",
       "      <td>0</td>\n",
       "      <td>E2300</td>\n",
       "      <td>tech</td>\n",
       "      <td>Desk</td>\n",
       "      <td>1</td>\n",
       "      <td>664</td>\n",
       "      <td>664</td>\n",
       "    </tr>\n",
       "    <tr>\n",
       "      <th>1</th>\n",
       "      <td>0</td>\n",
       "      <td>E2300</td>\n",
       "      <td>tech</td>\n",
       "      <td>Keyboard</td>\n",
       "      <td>9</td>\n",
       "      <td>649</td>\n",
       "      <td>584l</td>\n",
       "    </tr>\n",
       "    <tr>\n",
       "      <th>2</th>\n",
       "      <td>0</td>\n",
       "      <td>E2374</td>\n",
       "      <td>non-tech</td>\n",
       "      <td>Keyboard</td>\n",
       "      <td>1</td>\n",
       "      <td>821</td>\n",
       "      <td>821</td>\n",
       "    </tr>\n",
       "    <tr>\n",
       "      <th>3</th>\n",
       "      <td>1</td>\n",
       "      <td>E2374</td>\n",
       "      <td>non-tech</td>\n",
       "      <td>Desktop Computer</td>\n",
       "      <td>24</td>\n",
       "      <td>655</td>\n",
       "      <td>15720</td>\n",
       "    </tr>\n",
       "    <tr>\n",
       "      <th>4</th>\n",
       "      <td>0</td>\n",
       "      <td>E2327</td>\n",
       "      <td>non-tech</td>\n",
       "      <td>Desk</td>\n",
       "      <td>1</td>\n",
       "      <td>758</td>\n",
       "      <td>758</td>\n",
       "    </tr>\n",
       "  </tbody>\n",
       "</table>\n",
       "</div>"
      ],
      "text/plain": [
       "  tech_approval_required requester_id      role           product quantity  \\\n",
       "0                      0        E2300      tech              Desk        1   \n",
       "1                      0        E2300      tech          Keyboard        9   \n",
       "2                      0        E2374  non-tech          Keyboard        1   \n",
       "3                      1        E2374  non-tech  Desktop Computer       24   \n",
       "4                      0        E2327  non-tech              Desk        1   \n",
       "\n",
       "  price  total  \n",
       "0   664    664  \n",
       "1   649   584l  \n",
       "2   821    821  \n",
       "3   655  15720  \n",
       "4   758    758  "
      ]
     },
     "execution_count": 21,
     "metadata": {},
     "output_type": "execute_result"
    }
   ],
   "source": [
    "part2 = pd.read_csv('orders_corrupt.csv')\n",
    "part2.head()"
   ]
  },
  {
   "cell_type": "markdown",
   "id": "01d88654",
   "metadata": {},
   "source": [
    "# Part 2\n",
    "\n",
    "Focusing on the data frame `part2`. \n",
    "\n",
    "The file `orders_corrupt.csv` was obtained by running OCR on a scanned image.\n",
    "The OCR had issues in some entries mistaking number `1` with letter `l`.\n",
    "As a result, some numerical entries in the file are corrupt.\n",
    "\n",
    "16. What is the `dtypes` of `part2`?\n",
    "17. Replace the corrupt numbers with `na`. Show the first six rows.\n",
    "18. What are the `dtypes` now?\n",
    "19. How many rows are corrupt?\n",
    "20. Drop the corrupt rows. Show the first five rows in the resulting data frame."
   ]
  },
  {
   "cell_type": "code",
   "execution_count": 22,
   "id": "2cbeb92c",
   "metadata": {},
   "outputs": [
    {
     "data": {
      "text/plain": [
       "tech_approval_required    object\n",
       "requester_id              object\n",
       "role                      object\n",
       "product                   object\n",
       "quantity                  object\n",
       "price                     object\n",
       "total                     object\n",
       "dtype: object"
      ]
     },
     "execution_count": 22,
     "metadata": {},
     "output_type": "execute_result"
    }
   ],
   "source": [
    "## TEST 16\n",
    "test_16 = part2.dtypes\n",
    "test_16"
   ]
  },
  {
   "cell_type": "code",
   "execution_count": 23,
   "id": "2f73635a",
   "metadata": {},
   "outputs": [
    {
     "data": {
      "text/html": [
       "<div>\n",
       "<style scoped>\n",
       "    .dataframe tbody tr th:only-of-type {\n",
       "        vertical-align: middle;\n",
       "    }\n",
       "\n",
       "    .dataframe tbody tr th {\n",
       "        vertical-align: top;\n",
       "    }\n",
       "\n",
       "    .dataframe thead th {\n",
       "        text-align: right;\n",
       "    }\n",
       "</style>\n",
       "<table border=\"1\" class=\"dataframe\">\n",
       "  <thead>\n",
       "    <tr style=\"text-align: right;\">\n",
       "      <th></th>\n",
       "      <th>tech_approval_required</th>\n",
       "      <th>requester_id</th>\n",
       "      <th>role</th>\n",
       "      <th>product</th>\n",
       "      <th>quantity</th>\n",
       "      <th>price</th>\n",
       "      <th>total</th>\n",
       "    </tr>\n",
       "  </thead>\n",
       "  <tbody>\n",
       "    <tr>\n",
       "      <th>0</th>\n",
       "      <td>0.0</td>\n",
       "      <td>E2300</td>\n",
       "      <td>tech</td>\n",
       "      <td>Desk</td>\n",
       "      <td>1.0</td>\n",
       "      <td>664.0</td>\n",
       "      <td>664.0</td>\n",
       "    </tr>\n",
       "    <tr>\n",
       "      <th>1</th>\n",
       "      <td>0.0</td>\n",
       "      <td>E2300</td>\n",
       "      <td>tech</td>\n",
       "      <td>Keyboard</td>\n",
       "      <td>9.0</td>\n",
       "      <td>649.0</td>\n",
       "      <td>NaN</td>\n",
       "    </tr>\n",
       "    <tr>\n",
       "      <th>2</th>\n",
       "      <td>0.0</td>\n",
       "      <td>E2374</td>\n",
       "      <td>non-tech</td>\n",
       "      <td>Keyboard</td>\n",
       "      <td>1.0</td>\n",
       "      <td>821.0</td>\n",
       "      <td>821.0</td>\n",
       "    </tr>\n",
       "    <tr>\n",
       "      <th>3</th>\n",
       "      <td>1.0</td>\n",
       "      <td>E2374</td>\n",
       "      <td>non-tech</td>\n",
       "      <td>Desktop Computer</td>\n",
       "      <td>24.0</td>\n",
       "      <td>655.0</td>\n",
       "      <td>15720.0</td>\n",
       "    </tr>\n",
       "    <tr>\n",
       "      <th>4</th>\n",
       "      <td>0.0</td>\n",
       "      <td>E2327</td>\n",
       "      <td>non-tech</td>\n",
       "      <td>Desk</td>\n",
       "      <td>1.0</td>\n",
       "      <td>758.0</td>\n",
       "      <td>758.0</td>\n",
       "    </tr>\n",
       "    <tr>\n",
       "      <th>5</th>\n",
       "      <td>0.0</td>\n",
       "      <td>E2354</td>\n",
       "      <td>non-tech</td>\n",
       "      <td>Desk</td>\n",
       "      <td>1.0</td>\n",
       "      <td>576.0</td>\n",
       "      <td>576.0</td>\n",
       "    </tr>\n",
       "  </tbody>\n",
       "</table>\n",
       "</div>"
      ],
      "text/plain": [
       "   tech_approval_required requester_id      role           product  quantity  \\\n",
       "0                     0.0        E2300      tech              Desk       1.0   \n",
       "1                     0.0        E2300      tech          Keyboard       9.0   \n",
       "2                     0.0        E2374  non-tech          Keyboard       1.0   \n",
       "3                     1.0        E2374  non-tech  Desktop Computer      24.0   \n",
       "4                     0.0        E2327  non-tech              Desk       1.0   \n",
       "5                     0.0        E2354  non-tech              Desk       1.0   \n",
       "\n",
       "   price    total  \n",
       "0  664.0    664.0  \n",
       "1  649.0      NaN  \n",
       "2  821.0    821.0  \n",
       "3  655.0  15720.0  \n",
       "4  758.0    758.0  \n",
       "5  576.0    576.0  "
      ]
     },
     "execution_count": 23,
     "metadata": {},
     "output_type": "execute_result"
    }
   ],
   "source": [
    "## TEST 17\n",
    "mask = (lambda x: np.nan if 'l' in x else float(x))\n",
    "part2['tech_approval_required'] = part2['tech_approval_required'].apply(mask)\n",
    "part2['quantity'] = part2['quantity'].apply(mask)\n",
    "part2['price'] = part2['price'].apply(mask)\n",
    "part2['total'] = part2['total'].apply(mask)\n",
    "\n",
    "test_17 = part2.head(6)\n",
    "test_17"
   ]
  },
  {
   "cell_type": "code",
   "execution_count": 24,
   "id": "e93d8088",
   "metadata": {},
   "outputs": [
    {
     "data": {
      "text/plain": [
       "tech_approval_required    float64\n",
       "requester_id               object\n",
       "role                       object\n",
       "product                    object\n",
       "quantity                  float64\n",
       "price                     float64\n",
       "total                     float64\n",
       "dtype: object"
      ]
     },
     "execution_count": 24,
     "metadata": {},
     "output_type": "execute_result"
    }
   ],
   "source": [
    "## TEST 18\n",
    "test_18 = part2.dtypes\n",
    "test_18"
   ]
  },
  {
   "cell_type": "code",
   "execution_count": 25,
   "id": "7ba5d249",
   "metadata": {},
   "outputs": [
    {
     "data": {
      "text/plain": [
       "7"
      ]
     },
     "execution_count": 25,
     "metadata": {},
     "output_type": "execute_result"
    }
   ],
   "source": [
    "## TEST 19\n",
    "test_19 = len(part2[(part2['total'].isnull()) | (part2['quantity'].isnull()) | (part2['price'].isnull()) | (part2['tech_approval_required'].isnull())])\n",
    "test_19\n"
   ]
  },
  {
   "cell_type": "code",
   "execution_count": 26,
   "id": "469fef82",
   "metadata": {},
   "outputs": [
    {
     "data": {
      "text/html": [
       "<div>\n",
       "<style scoped>\n",
       "    .dataframe tbody tr th:only-of-type {\n",
       "        vertical-align: middle;\n",
       "    }\n",
       "\n",
       "    .dataframe tbody tr th {\n",
       "        vertical-align: top;\n",
       "    }\n",
       "\n",
       "    .dataframe thead th {\n",
       "        text-align: right;\n",
       "    }\n",
       "</style>\n",
       "<table border=\"1\" class=\"dataframe\">\n",
       "  <thead>\n",
       "    <tr style=\"text-align: right;\">\n",
       "      <th></th>\n",
       "      <th>tech_approval_required</th>\n",
       "      <th>requester_id</th>\n",
       "      <th>role</th>\n",
       "      <th>product</th>\n",
       "      <th>quantity</th>\n",
       "      <th>price</th>\n",
       "      <th>total</th>\n",
       "    </tr>\n",
       "  </thead>\n",
       "  <tbody>\n",
       "    <tr>\n",
       "      <th>0</th>\n",
       "      <td>0.0</td>\n",
       "      <td>E2300</td>\n",
       "      <td>tech</td>\n",
       "      <td>Desk</td>\n",
       "      <td>1.0</td>\n",
       "      <td>664.0</td>\n",
       "      <td>664.0</td>\n",
       "    </tr>\n",
       "    <tr>\n",
       "      <th>2</th>\n",
       "      <td>0.0</td>\n",
       "      <td>E2374</td>\n",
       "      <td>non-tech</td>\n",
       "      <td>Keyboard</td>\n",
       "      <td>1.0</td>\n",
       "      <td>821.0</td>\n",
       "      <td>821.0</td>\n",
       "    </tr>\n",
       "    <tr>\n",
       "      <th>3</th>\n",
       "      <td>1.0</td>\n",
       "      <td>E2374</td>\n",
       "      <td>non-tech</td>\n",
       "      <td>Desktop Computer</td>\n",
       "      <td>24.0</td>\n",
       "      <td>655.0</td>\n",
       "      <td>15720.0</td>\n",
       "    </tr>\n",
       "    <tr>\n",
       "      <th>4</th>\n",
       "      <td>0.0</td>\n",
       "      <td>E2327</td>\n",
       "      <td>non-tech</td>\n",
       "      <td>Desk</td>\n",
       "      <td>1.0</td>\n",
       "      <td>758.0</td>\n",
       "      <td>758.0</td>\n",
       "    </tr>\n",
       "    <tr>\n",
       "      <th>5</th>\n",
       "      <td>0.0</td>\n",
       "      <td>E2354</td>\n",
       "      <td>non-tech</td>\n",
       "      <td>Desk</td>\n",
       "      <td>1.0</td>\n",
       "      <td>576.0</td>\n",
       "      <td>576.0</td>\n",
       "    </tr>\n",
       "  </tbody>\n",
       "</table>\n",
       "</div>"
      ],
      "text/plain": [
       "   tech_approval_required requester_id      role           product  quantity  \\\n",
       "0                     0.0        E2300      tech              Desk       1.0   \n",
       "2                     0.0        E2374  non-tech          Keyboard       1.0   \n",
       "3                     1.0        E2374  non-tech  Desktop Computer      24.0   \n",
       "4                     0.0        E2327  non-tech              Desk       1.0   \n",
       "5                     0.0        E2354  non-tech              Desk       1.0   \n",
       "\n",
       "   price    total  \n",
       "0  664.0    664.0  \n",
       "2  821.0    821.0  \n",
       "3  655.0  15720.0  \n",
       "4  758.0    758.0  \n",
       "5  576.0    576.0  "
      ]
     },
     "execution_count": 26,
     "metadata": {},
     "output_type": "execute_result"
    }
   ],
   "source": [
    "## TEST 20\n",
    "test_20 = part2.dropna().head()\n",
    "test_20"
   ]
  }
 ],
 "metadata": {
  "kernelspec": {
   "display_name": "Python 3",
   "language": "python",
   "name": "python3"
  },
  "language_info": {
   "codemirror_mode": {
    "name": "ipython",
    "version": 3
   },
   "file_extension": ".py",
   "mimetype": "text/x-python",
   "name": "python",
   "nbconvert_exporter": "python",
   "pygments_lexer": "ipython3",
   "version": "3.8.8"
  }
 },
 "nbformat": 4,
 "nbformat_minor": 5
}
